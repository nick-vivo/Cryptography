{
 "cells": [
  {
   "cell_type": "code",
   "execution_count": 1,
   "metadata": {},
   "outputs": [],
   "source": [
    "import encryption.Enigma as En"
   ]
  },
  {
   "cell_type": "code",
   "execution_count": 2,
   "metadata": {},
   "outputs": [
    {
     "name": "stdout",
     "output_type": "stream",
     "text": [
      "ЯЪхбЁЧОПЖНЕ мЬАсьТиюгшЮвча.къДцжМзтодРСЛепяу,ИрШГЫйУфЦЗнХыэФКЙлЩщВБЭё\n",
      "s9hJRg5EmbU8L qdyra]Tв.iCo0zvSзkQuKlIZ2HA1Gct,74BfFMwYpN6VXxOPDj3Wщen\n"
     ]
    }
   ],
   "source": [
    "russianAlphabet = \"Аа, Бб, Вв, Гг, Дд, Ее, Ёё, Жж, Зз, Ии, Йй, Кк, Лл, Мм, Нн, Оо, Пп, Рр, Сс, Тт, Уу, Фф, Хх, Цц, Чч, Шш, Щщ, Ъъ, Ыы, Ьь, Ээ, Юю, Яя.\"\n",
    "\n",
    "englishAlphabet = \"A a, B b, CASDвщзf cas, D d, ].E e1234567890, F f, G g, H h, I i, J j, K k, L l, M m, N n, O o, P p, Q q, R r, S s, T t, U u, V v, W w, X x, Y y, Z z\"\n",
    "\n",
    "print(\"\".join(set(russianAlphabet)))\n",
    "\n",
    "print(\"\".join(set(englishAlphabet)))"
   ]
  },
  {
   "cell_type": "code",
   "execution_count": 3,
   "metadata": {},
   "outputs": [],
   "source": [
    "alph1 = \"УлЯ,МБиъЬЭХжмОочаЮВёЫЦЪНЗвбшСТпязФКдАРрхИеЙГцйьюДЁт.щЖк фыэШЕЧнЛсЩПуг\"\n",
    "alph2 = \"OVk,Hhs58LQSRD6zbFM3nmXlUtвwC2vзpI97rxGNKjd1.uTJщ4e0EB cZagPWoqYAiyf]\"\n",
    "alph3 = \"D9utLjniqJ6wKIEVh2HrbMk3WGg4YefT.U5RXxo]Pv7щзвNQs,Cp0cmF lBAa1SdZOzy8\"\n",
    "alph4 = \"IkL7зD45iMx]BFb Z8RSG9rwщJTyp1hng2sN6cWtElAaKYeV0.3QвXzq,UHPjoudmCfOv\""
   ]
  },
  {
   "cell_type": "code",
   "execution_count": 4,
   "metadata": {},
   "outputs": [],
   "source": [
    "roter1 = En.Roter(alph1,alph2)\n",
    "roter2 = En.Roter(alph2, alph3)\n",
    "roter3 = En.Roter(alph3, alph4)\n"
   ]
  },
  {
   "cell_type": "code",
   "execution_count": 5,
   "metadata": {},
   "outputs": [
    {
     "name": "stdout",
     "output_type": "stream",
     "text": [
      "None\n"
     ]
    }
   ],
   "source": [
    "roters = [roter1, roter2, roter3]\n",
    "\n",
    "enig = En.Enigma(roters)\n",
    "\n",
    "print(enig.rotorsAreTuned(roters))"
   ]
  },
  {
   "cell_type": "code",
   "execution_count": 6,
   "metadata": {},
   "outputs": [],
   "source": [
    "enig.putRotorsInStartPosition()"
   ]
  },
  {
   "cell_type": "code",
   "execution_count": 7,
   "metadata": {},
   "outputs": [
    {
     "name": "stdout",
     "output_type": "stream",
     "text": [
      "0\n",
      "0\n"
     ]
    }
   ],
   "source": [
    "print(roter1.step)\n",
    "print(roter2.step)"
   ]
  },
  {
   "cell_type": "code",
   "execution_count": 8,
   "metadata": {},
   "outputs": [
    {
     "name": "stdout",
     "output_type": "stream",
     "text": [
      "УлЯ,МБиъЬЭХжмОочаЮВёЫЦЪНЗвбшСТпязФКдАРрхИеЙГцйьюДЁт.щЖк фыэШЕЧнЛсЩПуг\n",
      "OVk,Hhs58LQSRD6zbFM3nmXlUtвwC2vзpI97rxGNKjd1.uTJщ4e0EB cZagPWoqYAiyf]\n",
      "OVk,Hhs58LQSRD6zbFM3nmXlUtвwC2vзpI97rxGNKjd1.uTJщ4e0EB cZagPWoqYAiyf]\n",
      "D9utLjniqJ6wKIEVh2HrbMk3WGg4YefT.U5RXxo]Pv7щзвNQs,Cp0cmF lBAa1SdZOzy8\n",
      "D9utLjniqJ6wKIEVh2HrbMk3WGg4YefT.U5RXxo]Pv7щзвNQs,Cp0cmF lBAa1SdZOzy8\n",
      "IkL7зD45iMx]BFb Z8RSG9rwщJTyp1hng2sN6cWtElAaKYeV0.3QвXzq,UHPjoudmCfOv\n"
     ]
    }
   ],
   "source": [
    "print(roter1.alphabet)\n",
    "print(roter1.roter)\n",
    "print(roter2.alphabet)\n",
    "print(roter2.roter)\n",
    "print(roter3.alphabet)\n",
    "print(roter3.roter)"
   ]
  },
  {
   "cell_type": "code",
   "execution_count": null,
   "metadata": {},
   "outputs": [],
   "source": [
    "text = \"\"\"Душа моя озарена неземной радостью, как эти чудесные весенние утра, которыми я наслаждаюсь от всего сердца. Я совсем один и блаженствую в здешнем краю, словно созданном для таких, как я. Я так счастлив, мой друг, так упоен ощущением покоя, что искусство мое страдает от этого. Ни одного штриха не мог бы я сделать, а никогда не был таким большим художником, как в эти минуты. Когда от милой моей долины поднимается пар и полдневное солнце стоит над непроницаемой чащей темного леса и лишь редкий луч проскальзывает в его святая святых,\"\"\""
   ]
  },
  {
   "cell_type": "code",
   "execution_count": 9,
   "metadata": {},
   "outputs": [
    {
     "name": "stdout",
     "output_type": "stream",
     "text": [
      "cbhnK5\n"
     ]
    }
   ],
   "source": [
    "\n",
    "text = enig.encrypt(text, roters)\n",
    "print(text)\n"
   ]
  },
  {
   "cell_type": "code",
   "execution_count": 10,
   "metadata": {},
   "outputs": [
    {
     "name": "stdout",
     "output_type": "stream",
     "text": [
      "УлЯ,МБиъЬЭХжмОочаЮВёЫЦЪНЗвбшСТпязФКдАРрхИеЙГцйьюДЁт.щЖк фыэШЕЧнЛсЩПуг\n",
      "s58LQSRD6zbFM3nmXlUtвwC2vзpI97rxGNKjd1.uTJщ4e0EB cZagPWoqYAiyf]OVk,Hh\n",
      "OVk,Hhs58LQSRD6zbFM3nmXlUtвwC2vзpI97rxGNKjd1.uTJщ4e0EB cZagPWoqYAiyf]\n",
      "D9utLjniqJ6wKIEVh2HrbMk3WGg4YefT.U5RXxo]Pv7щзвNQs,Cp0cmF lBAa1SdZOzy8\n"
     ]
    }
   ],
   "source": [
    "print(roter1.alphabet)\n",
    "print(roter1.roter)\n",
    "print(roter2.alphabet)\n",
    "print(roter2.roter)"
   ]
  },
  {
   "cell_type": "code",
   "execution_count": 11,
   "metadata": {},
   "outputs": [
    {
     "name": "stdout",
     "output_type": "stream",
     "text": [
      "РОССИЯ\n"
     ]
    }
   ],
   "source": [
    "enig.putRotorsInStartPosition()\n",
    "\n",
    "print(enig.translate(text, roters))"
   ]
  }
 ],
 "metadata": {
  "kernelspec": {
   "display_name": "env",
   "language": "python",
   "name": "python3"
  },
  "language_info": {
   "codemirror_mode": {
    "name": "ipython",
    "version": 3
   },
   "file_extension": ".py",
   "mimetype": "text/x-python",
   "name": "python",
   "nbconvert_exporter": "python",
   "pygments_lexer": "ipython3",
   "version": "3.11.6"
  }
 },
 "nbformat": 4,
 "nbformat_minor": 2
}
