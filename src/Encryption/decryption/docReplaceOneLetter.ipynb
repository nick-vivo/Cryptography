{
 "cells": [
  {
   "cell_type": "code",
   "execution_count": 1,
   "metadata": {},
   "outputs": [],
   "source": [
    "from D_ReplaceOneLetter import D_ReplaceOneLetter as DCrypt\n",
    "\n",
    "\n",
    "\n",
    "text = \"\"\">Р>rОХ2Х>ДЕ2rА2Х>РОЕ7О1Аa>Х29aФ7Е2РО17aХ> РФ aАr\n",
    ">2Мa1УО>РaЕ2 А12rА7>Д2 РФa17 >УОb9232>r7ХР2ФО>АО0Ф7МО>РaЕ2\n",
    "А12rАa8>Д2 РФa17 >УОb9232>r7ХР2ФО>2r12РО11О\n",
    ">1О>Д29rtaАa>tОrА2А>7Л>РrАЕatОaХ2rА7>1Оc<РОaАr\n",
    ">Х29aФЫЯ>ДaЕР232>ДЕ70Ф7ba17 >7Ф7>aЙa>ДaЕР232>Д2Е\n",
    "9УО>АО0Ф7МО>Бt7А<РОЯЙО\n",
    ">02Фaa>rФ2b1<a>cОР7r7Х2rА7>1ОДЕ7ХaЕ>Д2\n",
    "РФa17a>291232>r7ХР2ФО>Д2rФa>УОУ232А2>9ЕБ3232>7ХaЯА>r22АРaАr\n",
    "АРa112>РА2Е28>7>02Фaa>Д2Е 92У>r>Д2Х2ЙЫЯ>ЬА7Л>РaЕ2\n",
    "А12rАa8>Х2baА>0<АЫ>Р<t7rФa1О>Ь1АЕ2Д7\n",
    ">7>Д2rАЕ2a1>92rАОА2t12>ЬККaУА7Р1<8>У29>Д2cР2Ф\n",
    "ЯЙ78>rbОАЫ>АaУrА>1О7ФБtИО >rЕa91\n",
    ">9Ф71О>У29О>7>r22АРaАrАРa112>rАaДa1Ы>rbОА7 >92rА73ОaАr >Х29aФ\n",
    "Х7>Р>У2А2Е<Л>2Мa1У7>РaЕ2 А12rА7>УОУ>Х2b12>02Фaa>А2t1<\"\"\"\n",
    "\n",
    "text = text.replace(\"\\n\", \"\")\n",
    "\n",
    "decryptor = DCrypt(text)\n",
    "\n",
    "testAlphabet = \"_ОИЕАНТСРВМЛДЯКПЗЫЬУЧЖГХФЙЮБЦШЩЭ\"\n"
   ]
  },
  {
   "cell_type": "code",
   "execution_count": 2,
   "metadata": {},
   "outputs": [],
   "source": [
    "# уже нормальный ключ для вероятностей\n",
    "testAlphabet = \"_ОЕТИАСНВЛРМПДКЯГЧЖЫБЮЬЙЦЩЭХУЗФШ\""
   ]
  },
  {
   "cell_type": "code",
   "execution_count": 3,
   "metadata": {},
   "outputs": [
    {
     "data": {
      "text/plain": [
       "32"
      ]
     },
     "execution_count": 3,
     "metadata": {},
     "output_type": "execute_result"
    }
   ],
   "source": [
    "len(testAlphabet)"
   ]
  },
  {
   "cell_type": "code",
   "execution_count": 4,
   "metadata": {},
   "outputs": [
    {
     "name": "stdout",
     "output_type": "stream",
     "text": [
      "\n",
      "\n",
      "Тестовый алфавит выставляем по частоте встречи:\n",
      "\n",
      "{'>': 0.12852664576802508, '2': 0.12539184952978055, 'a': 0.07993730407523511, 'А': 0.07366771159874608, '7': 0.06269592476489028, 'О': 0.05799373040752351, 'r': 0.054858934169279, '1': 0.054858934169279, 'Р': 0.047021943573667714, 'Ф': 0.03605015673981191, 'Е': 0.032915360501567396, 'Х': 0.02821316614420063, 'Д': 0.02664576802507837, '9': 0.025078369905956112, 'У': 0.023510971786833857, ' ': 0.02037617554858934, '3': 0.014106583072100314, 't': 0.012539184952978056, 'b': 0.012539184952978056, '<': 0.012539184952978056, '0': 0.0109717868338558, 'Я': 0.007836990595611285, 'Ы': 0.007836990595611285, '8': 0.007836990595611285, 'М': 0.006269592476489028, 'Й': 0.006269592476489028, 'Ь': 0.004702194357366771, 'Л': 0.004702194357366771, 'Б': 0.004702194357366771, 'c': 0.004702194357366771, 'К': 0.003134796238244514, 'И': 0.001567398119122257}\n",
      "\n",
      "['>', '2', 'a', 'А', '7', 'О', 'r', '1', 'Р', 'Ф', 'Е', 'Х', 'Д', '9', 'У', ' ', '3', 't', 'b', '<', '0', 'Я', 'Ы', '8', 'М', 'Й', 'Ь', 'Л', 'Б', 'c', 'К', 'И']\n",
      "['_', 'О', 'Е', 'Т', 'И', 'А', 'С', 'Н', 'В', 'Л', 'Р', 'М', 'П', 'Д', 'К', 'Я', 'Г', 'Ч', 'Ж', 'Ы', 'Б', 'Ю', 'Ь', 'Й', 'Ц', 'Щ', 'Э', 'Х', 'У', 'З', 'Ф', 'Ш']\n",
      "\n",
      "\n",
      "Попробуем расшифровать:\n",
      "\n",
      ">Р>rОХ2Х>ДЕ2rА2Х>РОЕ7О1Аa>Х29aФ7Е2РО17aХ> РФ aАr>2Мa1УО>РaЕ2 А12rА7>Д2 РФa17 >УОb9232>r7ХР2ФО>АО0Ф7МО>РaЕ2А12rАa8>Д2 РФa17 >УОb9232>r7ХР2ФО>2r12РО11О>1О>Д29rtaАa>tОrА2А>7Л>РrАЕatОaХ2rА7>1Оc<РОaАr>Х29aФЫЯ>ДaЕР232>ДЕ70Ф7ba17 >7Ф7>aЙa>ДaЕР232>Д2Е9УО>АО0Ф7МО>Бt7А<РОЯЙО>02Фaa>rФ2b1<a>cОР7r7Х2rА7>1ОДЕ7ХaЕ>Д2РФa17a>291232>r7ХР2ФО>Д2rФa>УОУ232А2>9ЕБ3232>7ХaЯА>r22АРaАrАРa112>РА2Е28>7>02Фaa>Д2Е 92У>r>Д2Х2ЙЫЯ>ЬА7Л>РaЕ2А12rАa8>Х2baА>0<АЫ>Р<t7rФa1О>Ь1АЕ2Д7>7>Д2rАЕ2a1>92rАОА2t12>ЬККaУА7Р1<8>У29>Д2cР2ФЯЙ78>rbОАЫ>АaУrА>1О7ФБtИО >rЕa91>9Ф71О>У29О>7>r22АРaАrАРa112>rАaДa1Ы>rbОА7 >92rА73ОaАr >Х29aФХ7>Р>У2А2Е<Л>2Мa1У7>РaЕ2 А12rА7>УОУ>Х2b12>02Фaa>А2t1<\n",
      "_В_САМОМ_ПРОСТОМ_ВАРИАНТЕ_МОДЕЛИРОВАНИЕМ_ЯВЛЯЕТС_ОЦЕНКА_ВЕРОЯТНОСТИ_ПОЯВЛЕНИЯ_КАЖДОГО_СИМВОЛА_ТАБЛИЦА_ВЕРОТНОСТЕЙ_ПОЯВЛЕНИЯ_КАЖДОГО_СИМВОЛА_ОСНОВАННА_НА_ПОДСЧЕТЕ_ЧАСТОТ_ИХ_ВСТРЕЧАЕМОСТИ_НАЗЫВАЕТС_МОДЕЛЬЮ_ПЕРВОГО_ПРИБЛИЖЕНИЯ_ИЛИ_ЕЩЕ_ПЕРВОГО_ПОРДКА_ТАБЛИЦА_УЧИТЫВАЮЩА_БОЛЕЕ_СЛОЖНЫЕ_ЗАВИСИМОСТИ_НАПРИМЕР_ПОВЛЕНИЕ_ОДНОГО_СИМВОЛА_ПОСЛЕ_КАКОГОТО_ДРУГОГО_ИМЕЮТ_СООТВЕТСТВЕННО_ВТОРОЙ_И_БОЛЕЕ_ПОРЯДОК_С_ПОМОЩЬЮ_ЭТИХ_ВЕРОТНОСТЕЙ_МОЖЕТ_БЫТЬ_ВЫЧИСЛЕНА_ЭНТРОПИ_И_ПОСТРОЕН_ДОСТАТОЧНО_ЭФФЕКТИВНЫЙ_КОД_ПОЗВОЛЮЩИЙ_СЖАТЬ_ТЕКСТ_НАИЛУЧШАЯ_СРЕДН_ДЛИНА_КОДА_И_СООТВЕТСТВЕННО_СТЕПЕНЬ_СЖАТИЯ_ДОСТИГАЕТСЯ_МОДЕЛМИ_В_КОТОРЫХ_ОЦЕНКИ_ВЕРОЯТНОСТИ_КАК_МОЖНО_БОЛЕЕ_ТОЧНЫ\n"
     ]
    }
   ],
   "source": [
    "print(\"\\n\\nТестовый алфавит выставляем по частоте встречи:\\n\")\n",
    "\n",
    "print(decryptor.analysisTextAndSortFrequency())\n",
    "\n",
    "print()\n",
    "pri = list(decryptor.getTranslateDictFrequency(testAlphabet).keys())\n",
    "print(pri)\n",
    "pri = list(decryptor.getTranslateDictFrequency(testAlphabet).values())\n",
    "print(pri)\n",
    "\n",
    "print(\"\\n\\nПопробуем расшифровать:\\n\")\n",
    "print(text)\n",
    "translate = decryptor.decryptionSortFrequency(testAlphabet)\n",
    "print(translate)"
   ]
  },
  {
   "cell_type": "code",
   "execution_count": 5,
   "metadata": {},
   "outputs": [],
   "source": [
    "\n",
    "index = 1"
   ]
  },
  {
   "cell_type": "code",
   "execution_count": 6,
   "metadata": {},
   "outputs": [],
   "source": [
    "\n",
    "# print(\"Замена буквы\")\n",
    "# # в тестовом алфавите\n",
    "# lets = \"_И\"\n",
    "\n",
    "# testAlphabet = DCrypt.swapLettersInTestAlphabet(testAlphabet, lets[0], lets[1])\n",
    "\n",
    "# with open(\"history.txt\", \"a+\") as file:\n",
    "#     file.write(str(index) + \". \" + lets[0] + \" -> \" + lets[1] + \"\\n\")\n",
    "\n",
    "# index += 1"
   ]
  },
  {
   "cell_type": "code",
   "execution_count": 7,
   "metadata": {},
   "outputs": [],
   "source": [
    "# print(\"Замена слов\")\n",
    "# # в тестовом алфавите\n",
    "# lets = [\"Ъ\", \"Ш\" ]\n",
    "\n",
    "# testAlphabet = DCrypt.swapSetCharacters(testAlphabet, lets[0], lets[1])\n",
    "\n",
    "# with open(\"history.txt\", \"a+\") as file:\n",
    "#     file.write(str(index) + \". \" + lets[0] + \" -> \" + lets[1] + \"\\n\")\n",
    "\n",
    "# index += 1"
   ]
  },
  {
   "cell_type": "code",
   "execution_count": 8,
   "metadata": {},
   "outputs": [
    {
     "name": "stdout",
     "output_type": "stream",
     "text": [
      "Какие буквы сейчас\n",
      "\n",
      "['>', '2', 'a', 'А', '7', 'О', 'r', '1', 'Р', 'Ф', 'Е', 'Х', 'Д', '9', 'У', ' ', '3', 't', 'b', '<', '0', 'Я', 'Ы', '8', 'М', 'Й', 'Ь', 'Л', 'Б', 'c', 'К', 'И']\n",
      "['_', 'О', 'Е', 'Т', 'И', 'А', 'С', 'Н', 'В', 'Л', 'Р', 'М', 'П', 'Д', 'К', 'Я', 'Г', 'Ч', 'Ж', 'Ы', 'Б', 'Ю', 'Ь', 'Й', 'Ц', 'Щ', 'Э', 'Х', 'У', 'З', 'Ф', 'Ш']\n"
     ]
    }
   ],
   "source": [
    "\n",
    "print(\"Какие буквы сейчас\")\n",
    "print()\n",
    "pri = list(decryptor.getTranslateDictFrequency(testAlphabet).keys())\n",
    "print(pri)\n",
    "pri = str(list(decryptor.getTranslateDictFrequency(testAlphabet).values()))\n",
    "print(pri)\n",
    "\n",
    "# ['>', '2', 'a', 'А', '7', 'О', 'r', '1', 'Р', 'Ф', 'Е', 'Х', 'Д', '9', 'У', ' ', '\\n', '3', 't', 'b', '<', '0', 'Я', 'Ы', '8', 'М', 'Й', 'Ь', 'Л', 'Б', 'c', 'К', 'И']\n",
    "# ['_', 'О', 'Е', 'Т', 'И', 'А', 'С', 'Н', 'В', 'Л', 'Р', 'М', 'П', 'Д', 'К', 'Я', 'Ъ', 'Г', 'Ч', 'Ж', 'Ы', 'Б', 'Ю', 'Ь', 'Й', 'Ц', 'Щ', 'Э', 'Х', 'У', 'З', 'Ф', 'Ш']"
   ]
  },
  {
   "cell_type": "code",
   "execution_count": 9,
   "metadata": {},
   "outputs": [
    {
     "name": "stdout",
     "output_type": "stream",
     "text": [
      "\n",
      "\n",
      "Попробуем расшифровать:\n",
      "\n",
      ">Р>rОХ2Х>ДЕ2rА2Х>РОЕ7О1Аa>Х29aФ7Е2РО17aХ> РФ aАr>2Мa1УО>РaЕ2 А12rА7>Д2 РФa17 >УОb9232>r7ХР2ФО>АО0Ф7МО>РaЕ2А12rАa8>Д2 РФa17 >УОb9232>r7ХР2ФО>2r12РО11О>1О>Д29rtaАa>tОrА2А>7Л>РrАЕatОaХ2rА7>1Оc<РОaАr>Х29aФЫЯ>ДaЕР232>ДЕ70Ф7ba17 >7Ф7>aЙa>ДaЕР232>Д2Е9УО>АО0Ф7МО>Бt7А<РОЯЙО>02Фaa>rФ2b1<a>cОР7r7Х2rА7>1ОДЕ7ХaЕ>Д2РФa17a>291232>r7ХР2ФО>Д2rФa>УОУ232А2>9ЕБ3232>7ХaЯА>r22АРaАrАРa112>РА2Е28>7>02Фaa>Д2Е 92У>r>Д2Х2ЙЫЯ>ЬА7Л>РaЕ2А12rАa8>Х2baА>0<АЫ>Р<t7rФa1О>Ь1АЕ2Д7>7>Д2rАЕ2a1>92rАОА2t12>ЬККaУА7Р1<8>У29>Д2cР2ФЯЙ78>rbОАЫ>АaУrА>1О7ФБtИО >rЕa91>9Ф71О>У29О>7>r22АРaАrАРa112>rАaДa1Ы>rbОА7 >92rА73ОaАr >Х29aФХ7>Р>У2А2Е<Л>2Мa1У7>РaЕ2 А12rА7>УОУ>Х2b12>02Фaa>А2t1<\n",
      "\n",
      "_В_САМОМ_ПРОСТОМ_ВАРИАНТЕ_МОДЕЛИРОВАНИЕМ_ЯВЛЯЕТС_ОЦЕНКА_ВЕРОЯТНОСТИ_ПОЯВЛЕНИЯ_КАЖДОГО_СИМВОЛА_ТАБЛИЦА_ВЕРОТНОСТЕЙ_ПОЯВЛЕНИЯ_КАЖДОГО_СИМВОЛА_ОСНОВАННА_НА_ПОДСЧЕТЕ_ЧАСТОТ_ИХ_ВСТРЕЧАЕМОСТИ_НАЗЫВАЕТС_МОДЕЛЬЮ_ПЕРВОГО_ПРИБЛИЖЕНИЯ_ИЛИ_ЕЩЕ_ПЕРВОГО_ПОРДКА_ТАБЛИЦА_УЧИТЫВАЮЩА_БОЛЕЕ_СЛОЖНЫЕ_ЗАВИСИМОСТИ_НАПРИМЕР_ПОВЛЕНИЕ_ОДНОГО_СИМВОЛА_ПОСЛЕ_КАКОГОТО_ДРУГОГО_ИМЕЮТ_СООТВЕТСТВЕННО_ВТОРОЙ_И_БОЛЕЕ_ПОРЯДОК_С_ПОМОЩЬЮ_ЭТИХ_ВЕРОТНОСТЕЙ_МОЖЕТ_БЫТЬ_ВЫЧИСЛЕНА_ЭНТРОПИ_И_ПОСТРОЕН_ДОСТАТОЧНО_ЭФФЕКТИВНЫЙ_КОД_ПОЗВОЛЮЩИЙ_СЖАТЬ_ТЕКСТ_НАИЛУЧШАЯ_СРЕДН_ДЛИНА_КОДА_И_СООТВЕТСТВЕННО_СТЕПЕНЬ_СЖАТИЯ_ДОСТИГАЕТСЯ_МОДЕЛМИ_В_КОТОРЫХ_ОЦЕНКИ_ВЕРОЯТНОСТИ_КАК_МОЖНО_БОЛЕЕ_ТОЧНЫ\n",
      "\n"
     ]
    }
   ],
   "source": [
    "print(\"\\n\\nПопробуем расшифровать:\\n\")\n",
    "print(text)\n",
    "translate = decryptor.decryptionSortFrequency(testAlphabet)\n",
    "print()\n",
    "print(translate)\n",
    "print()"
   ]
  },
  {
   "cell_type": "code",
   "execution_count": 10,
   "metadata": {},
   "outputs": [
    {
     "name": "stdout",
     "output_type": "stream",
     "text": [
      "\n",
      "Теперь выпишим слова размер которых x и пробел - '>' и один, чтобы провести анализ слов(также возьмём их перевод)\n",
      "\n",
      "\n",
      "\n",
      "1, 6, 0.07228915662650602\n",
      "['Р', '7', 'r', '7', '7', 'Р']\n",
      "['В', 'И', 'С', 'И', 'И', 'В']\n",
      "\n",
      "2, 2, 0.024096385542168676\n",
      "['1О', '7Л']\n",
      "['НА', 'ИХ']\n",
      "\n",
      "3, 4, 0.04819277108433735\n",
      "['7Ф7', 'aЙa', 'У29', 'УОУ']\n",
      "['ИЛИ', 'ЕЩЕ', 'КОД', 'КАК']\n",
      "\n",
      "4, 3, 0.03614457831325301\n",
      "['ЬА7Л', '0<АЫ', 'У29О']\n",
      "['ЭТИХ', 'БЫТЬ', 'КОДА']\n",
      "\n",
      "5, 13, 0.1566265060240964\n",
      "['rОХ2Х', '02Фaa', 'Д2rФa', '7ХaЯА', '02Фaa', 'Х2baА', 'rbОАЫ', 'АaУrА', 'rЕa91', '9Ф71О', 'Х2b12', '02Фaa', 'А2t1<']\n",
      "['САМОМ', 'БОЛЕЕ', 'ПОСЛЕ', 'ИМЕЮТ', 'БОЛЕЕ', 'МОЖЕТ', 'СЖАТЬ', 'ТЕКСТ', 'СРЕДН', 'ДЛИНА', 'МОЖНО', 'БОЛЕЕ', 'ТОЧНЫ']\n",
      "\n",
      "6, 7, 0.08433734939759036\n",
      "['2Мa1УО', 'tОrА2А', 'Д2Е9УО', '291232', 'РА2Е28', 'rbОА7 ', '2Мa1У7']\n",
      "['ОЦЕНКА', 'ЧАСТОТ', 'ПОРДКА', 'ОДНОГО', 'ВТОРОЙ', 'СЖАТИЯ', 'ОЦЕНКИ']\n"
     ]
    }
   ],
   "source": [
    "print(\"\\nТеперь выпишим слова размер которых x и пробел - '>' и один, чтобы провести анализ слов(также возьмём их перевод)\\n\\n\")\n",
    "\n",
    "det_in_cihep = '>'\n",
    "det_in_cihep2 = '_'\n",
    "\n",
    "x = []\n",
    "y = []\n",
    "\n",
    "for i in range(1, 7):\n",
    "    lenth = decryptor.countWordSizeInText([det_in_cihep], i)\n",
    "    if lenth != 0:\n",
    "        average = decryptor.wordSizeInTextFrequency([det_in_cihep], i)\n",
    "        print(f\"\\n{i}, {lenth}, {average}\")\n",
    "        print(decryptor.splitTextBySize([det_in_cihep], i))\n",
    "        print(DCrypt.splitTextBySize_s(translate, [det_in_cihep2], i))\n",
    "        x.append(i)\n",
    "        y.append(average)\n"
   ]
  },
  {
   "cell_type": "markdown",
   "metadata": {},
   "source": []
  },
  {
   "cell_type": "code",
   "execution_count": 11,
   "metadata": {},
   "outputs": [
    {
     "name": "stdout",
     "output_type": "stream",
     "text": [
      "\n",
      "7, 20, 0.24096385542168675\n",
      "['ДЕ2rА2Х', ' РФ aАr', 'УОb9232', 'r7ХР2ФО', 'АО0Ф7МО', 'УОb9232', 'r7ХР2ФО', 'Х29aФЫЯ', 'ДaЕР232', 'ДaЕР232', 'АО0Ф7МО', 'rФ2b1<a', 'r7ХР2ФО', '9ЕБ3232', 'Д2Е 92У', 'Д2Х2ЙЫЯ', 'Ь1АЕ2Д7', 'rАaДa1Ы', 'Х29aФХ7', 'У2А2Е<Л']\n",
      "['ПРОСТОМ', 'ЯВЛЯЕТС', 'КАЖДОГО', 'СИМВОЛА', 'ТАБЛИЦА', 'КАЖДОГО', 'СИМВОЛА', 'МОДЕЛЬЮ', 'ПЕРВОГО', 'ПЕРВОГО', 'ТАБЛИЦА', 'СЛОЖНЫЕ', 'СИМВОЛА', 'ДРУГОГО', 'ПОРЯДОК', 'ПОМОЩЬЮ', 'ЭНТРОПИ', 'СТЕПЕНЬ', 'МОДЕЛМИ', 'КОТОРЫХ']\n",
      "\n",
      "8, 6, 0.07228915662650602\n",
      "['РОЕ7О1Аa', 'Д29rtaАa', '1ОДЕ7ХaЕ', 'Д2РФa17a', 'УОУ232А2', 'Д2rАЕ2a1']\n",
      "['ВАРИАНТЕ', 'ПОДСЧЕТЕ', 'НАПРИМЕР', 'ПОВЛЕНИЕ', 'КАКОГОТО', 'ПОСТРОЕН']\n",
      "\n",
      "9, 6, 0.07228915662650602\n",
      "['Д2 РФa17 ', 'Д2 РФa17 ', '2r12РО11О', '1Оc<РОaАr', 'Р<t7rФa1О', '1О7ФБtИО ']\n",
      "['ПОЯВЛЕНИЯ', 'ПОЯВЛЕНИЯ', 'ОСНОВАННА', 'НАЗЫВАЕТС', 'ВЫЧИСЛЕНА', 'НАИЛУЧШАЯ']\n",
      "\n",
      "10, 3, 0.03614457831325301\n",
      "['Бt7А<РОЯЙО', '92rАОА2t12', 'Д2cР2ФЯЙ78']\n",
      "['УЧИТЫВАЮЩА', 'ДОСТАТОЧНО', 'ПОЗВОЛЮЩИЙ']\n",
      "\n",
      "11, 8, 0.0963855421686747\n",
      "['РaЕ2 А12rА7', 'РaЕ2А12rАa8', 'ДЕ70Ф7ba17 ', 'cОР7r7Х2rА7', 'РaЕ2А12rАa8', 'ЬККaУА7Р1<8', '92rА73ОaАr ', 'РaЕ2 А12rА7']\n",
      "['ВЕРОЯТНОСТИ', 'ВЕРОТНОСТЕЙ', 'ПРИБЛИЖЕНИЯ', 'ЗАВИСИМОСТИ', 'ВЕРОТНОСТЕЙ', 'ЭФФЕКТИВНЫЙ', 'ДОСТИГАЕТСЯ', 'ВЕРОЯТНОСТИ']\n",
      "\n",
      "13, 1, 0.012048192771084338\n",
      "['РrАЕatОaХ2rА7']\n",
      "['ВСТРЕЧАЕМОСТИ']\n"
     ]
    }
   ],
   "source": [
    "for i in range(7, 14):\n",
    "\n",
    "    lenth = decryptor.countWordSizeInText([det_in_cihep], i)\n",
    "    if lenth != 0:\n",
    "        average = decryptor.wordSizeInTextFrequency([det_in_cihep], i)\n",
    "        print(f\"\\n{i}, {lenth}, {average}\")\n",
    "        print(decryptor.splitTextBySize([det_in_cihep], i))\n",
    "        print(DCrypt.splitTextBySize_s(translate, [det_in_cihep2], i))\n",
    "        x.append(i)\n",
    "        y.append(average)"
   ]
  },
  {
   "cell_type": "code",
   "execution_count": 12,
   "metadata": {},
   "outputs": [
    {
     "name": "stdout",
     "output_type": "stream",
     "text": [
      "\n",
      "14, 3, 0.03614457831325301\n",
      "['Х29aФ7Е2РО17aХ', 'r22АРaАrАРa112', 'r22АРaАrАРa112']\n",
      "['МОДЕЛИРОВАНИЕМ', 'СООТВЕТСТВЕННО', 'СООТВЕТСТВЕННО']\n"
     ]
    }
   ],
   "source": [
    "for i in range(14, 20):\n",
    "\n",
    "    lenth = decryptor.countWordSizeInText([det_in_cihep], i)\n",
    "    if lenth != 0:\n",
    "        average = decryptor.wordSizeInTextFrequency([det_in_cihep], i)\n",
    "        print(f\"\\n{i}, {lenth}, {average}\")\n",
    "        print(decryptor.splitTextBySize([det_in_cihep], i))\n",
    "        print(DCrypt.splitTextBySize_s(translate, [det_in_cihep2], i))\n",
    "        x.append(i)\n",
    "        y.append(average)"
   ]
  },
  {
   "cell_type": "code",
   "execution_count": 13,
   "metadata": {},
   "outputs": [
    {
     "name": "stdout",
     "output_type": "stream",
     "text": [
      "{'>': '_', '2': 'О', 'a': 'Е', 'А': 'Т', '7': 'И', 'О': 'А', 'r': 'С', '1': 'Н', 'Р': 'В', 'Ф': 'Л', 'Е': 'Р', 'Х': 'М', 'Д': 'П', '9': 'Д', 'У': 'К', ' ': 'Я', '3': 'Г', 't': 'Ч', 'b': 'Ж', '<': 'Ы', '0': 'Б', 'Я': 'Ю', 'Ы': 'Ь', '8': 'Й', 'М': 'Ц', 'Й': 'Щ', 'Ь': 'Э', 'Л': 'Х', 'Б': 'У', 'c': 'З', 'К': 'Ф', 'И': 'Ш'}\n",
      "\n",
      "Частота встречи символов:\n",
      ">2aА7Оr1РФЕХД9У 3tb<0ЯЫ8МЙЬЛБcКИ\n",
      "Ключ для вероятности:\n",
      "_ОЕТИАСНВЛРМПДКЯГЧЖЫБЮЬЙЦЩЭХУЗФШ\n",
      "\n",
      "Алфавит:\n",
      " 0123789<>abcrtАБДЕИЙКЛМОРУФХЫЬЯ\n",
      "Ключ для алфавита:\n",
      "ЯБНОГИЙДЫ_ЕЖЗСЧТУПРШЩФХЦАВКЛМЬЭЮ\n",
      "\n",
      " _В_САМОМ_ПРОСТОМ_ВАРИАНТЕ_МОДЕЛИРОВАНИЕМ_ЯВЛЯЕТС_ОЦЕНКА_ВЕРОЯТНОСТИ_ПОЯВЛЕНИЯ_КАЖДОГО_СИМВОЛА_ТАБЛИЦА_ВЕРОТНОСТЕЙ_ПОЯВЛЕНИЯ_КАЖДОГО_СИМВОЛА_ОСНОВАННА_НА_ПОДСЧЕТЕ_ЧАСТОТ_ИХ_ВСТРЕЧАЕМОСТИ_НАЗЫВАЕТС_МОДЕЛЬЮ_ПЕРВОГО_ПРИБЛИЖЕНИЯ_ИЛИ_ЕЩЕ_ПЕРВОГО_ПОРДКА_ТАБЛИЦА_УЧИТЫВАЮЩА_БОЛЕЕ_СЛОЖНЫЕ_ЗАВИСИМОСТИ_НАПРИМЕР_ПОВЛЕНИЕ_ОДНОГО_СИМВОЛА_ПОСЛЕ_КАКОГОТО_ДРУГОГО_ИМЕЮТ_СООТВЕТСТВЕННО_ВТОРОЙ_И_БОЛЕЕ_ПОРЯДОК_С_ПОМОЩЬЮ_ЭТИХ_ВЕРОТНОСТЕЙ_МОЖЕТ_БЫТЬ_ВЫЧИСЛЕНА_ЭНТРОПИ_И_ПОСТРОЕН_ДОСТАТОЧНО_ЭФФЕКТИВНЫЙ_КОД_ПОЗВОЛЮЩИЙ_СЖАТЬ_ТЕКСТ_НАИЛУЧШАЯ_СРЕДН_ДЛИНА_КОДА_И_СООТВЕТСТВЕННО_СТЕПЕНЬ_СЖАТИЯ_ДОСТИГАЕТСЯ_МОДЕЛМИ_В_КОТОРЫХ_ОЦЕНКИ_ВЕРОЯТНОСТИ_КАК_МОЖНО_БОЛЕЕ_ТОЧНЫ\n"
     ]
    }
   ],
   "source": [
    "#получение ключа для алфавита\n",
    "\n",
    "dic = decryptor.getTranslateDictFrequency(testAlphabet)\n",
    "print(dic)\n",
    "\n",
    "keyForFrequency = \"\".join(list(dic.values()))\n",
    "\n",
    "\n",
    "\n",
    "sorted_dict = sorted(dic.items())\n",
    "keyForAlphabet = \"\".join([value for key, value in sorted_dict])\n",
    "\n",
    "\n",
    "print(\"\\nЧастота встречи символов:\")\n",
    "print(\"\".join(list(dic.keys())))\n",
    "print(\"Ключ для вероятности:\")\n",
    "print(keyForFrequency)\n",
    "\n",
    "print(\"\\nАлфавит:\")\n",
    "print(\"\".join([key for key, value in sorted_dict]))\n",
    "print(\"Ключ для алфавита:\")\n",
    "print(keyForAlphabet)\n",
    "\n",
    "print(\"\\n\", decryptor.decryptionSortAlphabet(keyForAlphabet))"
   ]
  },
  {
   "cell_type": "code",
   "execution_count": 14,
   "metadata": {},
   "outputs": [],
   "source": [
    "decryptor.export_KeyJSON(testAlphabet)"
   ]
  },
  {
   "cell_type": "markdown",
   "metadata": {},
   "source": [
    "Нужно для выбора пробела. Что будет пробелом 2 или >"
   ]
  },
  {
   "cell_type": "code",
   "execution_count": 15,
   "metadata": {},
   "outputs": [
    {
     "data": {
      "image/png": "[encoded data removed]",
      "text/plain": [
       "<Figure size 640x480 with 1 Axes>"
      ]
     },
     "metadata": {},
     "output_type": "display_data"
    }
   ],
   "source": [
    "import matplotlib.pyplot as plt\n",
    "\n",
    "plt.plot(x, y)\n",
    "plt.xlabel('X-axis')\n",
    "plt.ylabel('Y-axis')\n",
    "plt.title('Simple Plot')\n",
    "\n",
    "plt.grid()\n",
    "\n",
    "# plt.savefig(\"resource/2-_.png\")\n",
    "plt.show()"
   ]
  }
 ],
 "metadata": {
  "kernelspec": {
   "display_name": "env",
   "language": "python",
   "name": "python3"
  },
  "language_info": {
   "codemirror_mode": {
    "name": "ipython",
    "version": 3
   },
   "file_extension": ".py",
   "mimetype": "text/x-python",
   "name": "python",
   "nbconvert_exporter": "python",
   "pygments_lexer": "ipython3",
   "version": "3.11.6"
  }
 },
 "nbformat": 4,
 "nbformat_minor": 2
}
