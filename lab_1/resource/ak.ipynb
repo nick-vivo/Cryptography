{
 "cells": [
  {
   "cell_type": "code",
   "execution_count": 2,
   "metadata": {},
   "outputs": [
    {
     "ename": "ImportError",
     "evalue": "attempted relative import with no known parent package",
     "output_type": "error",
     "traceback": [
      "\u001b[0;31m---------------------------------------------------------------------------\u001b[0m",
      "\u001b[0;31mImportError\u001b[0m                               Traceback (most recent call last)",
      "Cell \u001b[0;32mIn[2], line 5\u001b[0m\n\u001b[1;32m      2\u001b[0m \u001b[38;5;28;01mimport\u001b[39;00m \u001b[38;5;21;01msys\u001b[39;00m\n\u001b[1;32m      3\u001b[0m sys\u001b[38;5;241m.\u001b[39mpath\u001b[38;5;241m.\u001b[39mappend(\u001b[38;5;124m'\u001b[39m\u001b[38;5;124m..\u001b[39m\u001b[38;5;124m'\u001b[39m)  \u001b[38;5;66;03m# Добавляем путь к родительскому каталогу\u001b[39;00m\n\u001b[0;32m----> 5\u001b[0m \u001b[38;5;28;01mfrom\u001b[39;00m \u001b[38;5;21;01m.\u001b[39;00m\u001b[38;5;21;01mdecryption\u001b[39;00m\u001b[38;5;21;01m.\u001b[39;00m\u001b[38;5;21;01mD_ReplaceOneLetter\u001b[39;00m \u001b[38;5;28;01mimport\u001b[39;00m D_ReplaceOneLetter \u001b[38;5;28;01mas\u001b[39;00m DCrypt\n\u001b[1;32m      9\u001b[0m text \u001b[38;5;241m=\u001b[39m \u001b[38;5;124m\"\"\"\u001b[39m\u001b[38;5;124m>Р>rОХ2Х>ДЕ2rА2Х>РОЕ7О1Аa>Х29aФ7Е2РО17aХ> РФ aАr\u001b[39m\n\u001b[1;32m     10\u001b[0m \u001b[38;5;124m>2Мa1УО>РaЕ2 А12rА7>Д2 РФa17 >УОb9232>r7ХР2ФО>АО0Ф7МО>РaЕ2\u001b[39m\n\u001b[1;32m     11\u001b[0m \u001b[38;5;124mА12rАa8>Д2 РФa17 >УОb9232>r7ХР2ФО>2r12РО11О\u001b[39m\n\u001b[0;32m   (...)\u001b[0m\n\u001b[1;32m     21\u001b[0m \u001b[38;5;124m>9Ф71О>У29О>7>r22АРaАrАРa112>rАaДa1Ы>rbОА7 >92rА73ОaАr >Х29aФ\u001b[39m\n\u001b[1;32m     22\u001b[0m \u001b[38;5;124mХ7>Р>У2А2Е<Л>2Мa1У7>РaЕ2 А12rА7>УОУ>Х2b12>02Фaa>А2t1<\u001b[39m\u001b[38;5;124m\"\"\"\u001b[39m\n\u001b[1;32m     24\u001b[0m text \u001b[38;5;241m=\u001b[39m text\u001b[38;5;241m.\u001b[39mreplace(\u001b[38;5;124m\"\u001b[39m\u001b[38;5;124mъ\u001b[39m\u001b[38;5;124m\"\u001b[39m, \u001b[38;5;124m\"\u001b[39m\u001b[38;5;124m\"\u001b[39m)\n",
      "\u001b[0;31mImportError\u001b[0m: attempted relative import with no known parent package"
     ]
    }
   ],
   "source": [
    "\n",
    "# from decryption.D_ReplaceOneLetter import D_ReplaceOneLetter as DCrypt\n",
    "import sys\n",
    "sys.path.append('..')  # Добавляем путь к родительскому каталогу\n",
    "\n",
    "from decryption.D_ReplaceOneLetter import D_ReplaceOneLetter as DCrypt\n",
    "\n",
    "\n",
    "\n",
    "text = \"\"\">Р>rОХ2Х>ДЕ2rА2Х>РОЕ7О1Аa>Х29aФ7Е2РО17aХ> РФ aАr\n",
    ">2Мa1УО>РaЕ2 А12rА7>Д2 РФa17 >УОb9232>r7ХР2ФО>АО0Ф7МО>РaЕ2\n",
    "А12rАa8>Д2 РФa17 >УОb9232>r7ХР2ФО>2r12РО11О\n",
    ">1О>Д29rtaАa>tОrА2А>7Л>РrАЕatОaХ2rА7>1Оc<РОaАr\n",
    ">Х29aФЫЯ>ДaЕР232>ДЕ70Ф7ba17 >7Ф7>aЙa>ДaЕР232>Д2Е\n",
    "9УО>АО0Ф7МО>Бt7А<РОЯЙО\n",
    ">02Фaa>rФ2b1<a>cОР7r7Х2rА7>1ОДЕ7ХaЕ>Д2\n",
    "РФa17a>291232>r7ХР2ФО>Д2rФa>УОУ232А2>9ЕБ3232>7ХaЯА>r22АРaАr\n",
    "АРa112>РА2Е28>7>02Фaa>Д2Е 92У>r>Д2Х2ЙЫЯ>ЬА7Л>РaЕ2\n",
    "А12rАa8>Х2baА>0<АЫ>Р<t7rФa1О>Ь1АЕ2Д7\n",
    ">7>Д2rАЕ2a1>92rАОА2t12>ЬККaУА7Р1<8>У29>Д2cР2Ф\n",
    "ЯЙ78>rbОАЫ>АaУrА>1О7ФБtИО >rЕa91\n",
    ">9Ф71О>У29О>7>r22АРaАrАРa112>rАaДa1Ы>rbОА7 >92rА73ОaАr >Х29aФ\n",
    "Х7>Р>У2А2Е<Л>2Мa1У7>РaЕ2 А12rА7>УОУ>Х2b12>02Фaa>А2t1<\"\"\"\n",
    "\n",
    "text = text.replace(\"ъ\", \"\")\n",
    "\n",
    "decryptor = DCrypt(text)\n",
    "\n",
    "testAlphabet = \"_ОИЕАНТСРВМЛДЯКПЗЫЬУЧЖГХФЙЮБЦШЩЭЪ\"\n"
   ]
  },
  {
   "cell_type": "code",
   "execution_count": 3,
   "metadata": {},
   "outputs": [],
   "source": [
    "# уже нормальный ключ для вероятностей\n",
    "testAlphabet = \"_ОЕТИАСНВЛРМПДКЯЪГЧЖЫБЮЬЙЦЩЭХУЗФШ\""
   ]
  },
  {
   "cell_type": "code",
   "execution_count": null,
   "metadata": {},
   "outputs": [],
   "source": [
    "len(testAlphabet)"
   ]
  },
  {
   "cell_type": "code",
   "execution_count": 4,
   "metadata": {},
   "outputs": [
    {
     "name": "stdout",
     "output_type": "stream",
     "text": [
      "\n",
      "\n",
      "Переведём по частоте, по часто встречающимися символам. Тестовый алфавит выставляем по частоте встречи:\n",
      "\n",
      "{'>': 0.1259600614439324, '2': 0.1228878648233487, 'a': 0.07834101382488479, 'А': 0.07219662058371736, '7': 0.06144393241167435, 'О': 0.05683563748079877, 'r': 0.053763440860215055, '1': 0.053763440860215055, 'Р': 0.04608294930875576, 'Ф': 0.03533026113671275, 'Е': 0.03225806451612903, 'Х': 0.027649769585253458, 'Д': 0.026113671274961597, '9': 0.02457757296466974, 'У': 0.02304147465437788, ' ': 0.019969278033794162, '\\n': 0.019969278033794162, '3': 0.013824884792626729, 't': 0.01228878648233487, 'b': 0.01228878648233487, '<': 0.01228878648233487, '0': 0.010752688172043012, 'Я': 0.007680491551459293, 'Ы': 0.007680491551459293, '8': 0.007680491551459293, 'М': 0.006144393241167435, 'Й': 0.006144393241167435, 'Ь': 0.004608294930875576, 'Л': 0.004608294930875576, 'Б': 0.004608294930875576, 'c': 0.004608294930875576, 'К': 0.0030721966205837174, 'И': 0.0015360983102918587}\n",
      "\n",
      "['>', '2', 'a', 'А', '7', 'О', 'r', '1', 'Р', 'Ф', 'Е', 'Х', 'Д', '9', 'У', ' ', '\\n', '3', 't', 'b', '<', '0', 'Я', 'Ы', '8', 'М', 'Й', 'Ь', 'Л', 'Б', 'c', 'К', 'И']\n",
      "['_', 'О', 'Е', 'Т', 'И', 'А', 'С', 'Н', 'В', 'Л', 'Р', 'М', 'П', 'Д', 'К', 'Я', 'Ъ', 'Г', 'Ч', 'Ж', 'Ы', 'Б', 'Ю', 'Ь', 'Й', 'Ц', 'Щ', 'Э', 'Х', 'У', 'З', 'Ф', 'Ш']\n",
      "\n",
      "\n",
      "Попробуем расшифровать:\n",
      "\n",
      ">Р>rОХ2Х>ДЕ2rА2Х>РОЕ7О1Аa>Х29aФ7Е2РО17aХ> РФ aАr\n",
      ">2Мa1УО>РaЕ2 А12rА7>Д2 РФa17 >УОb9232>r7ХР2ФО>АО0Ф7МО>РaЕ2\n",
      "А12rАa8>Д2 РФa17 >УОb9232>r7ХР2ФО>2r12РО11О\n",
      ">1О>Д29rtaАa>tОrА2А>7Л>РrАЕatОaХ2rА7>1Оc<РОaАr\n",
      ">Х29aФЫЯ>ДaЕР232>ДЕ70Ф7ba17 >7Ф7>aЙa>ДaЕР232>Д2Е\n",
      "9УО>АО0Ф7МО>Бt7А<РОЯЙО\n",
      ">02Фaa>rФ2b1<a>cОР7r7Х2rА7>1ОДЕ7ХaЕ>Д2\n",
      "РФa17a>291232>r7ХР2ФО>Д2rФa>УОУ232А2>9ЕБ3232>7ХaЯА>r22АРaАr\n",
      "АРa112>РА2Е28>7>02Фaa>Д2Е 92У>r>Д2Х2ЙЫЯ>ЬА7Л>РaЕ2\n",
      "А12rАa8>Х2baА>0<АЫ>Р<t7rФa1О>Ь1АЕ2Д7\n",
      ">7>Д2rАЕ2a1>92rАОА2t12>ЬККaУА7Р1<8>У29>Д2cР2Ф\n",
      "ЯЙ78>rbОАЫ>АaУrА>1О7ФБtИО >rЕa91\n",
      ">9Ф71О>У29О>7>r22АРaАrАРa112>rАaДa1Ы>rbОА7 >92rА73ОaАr >Х29aФ\n",
      "Х7>Р>У2А2Е<Л>2Мa1У7>РaЕ2 А12rА7>УОУ>Х2b12>02Фaa>А2t1<\n",
      "_В_САМОМ_ПРОСТОМ_ВАРИАНТЕ_МОДЕЛИРОВАНИЕМ_ЯВЛЯЕТСЪ_ОЦЕНКА_ВЕРОЯТНОСТИ_ПОЯВЛЕНИЯ_КАЖДОГО_СИМВОЛА_ТАБЛИЦА_ВЕРОЪТНОСТЕЙ_ПОЯВЛЕНИЯ_КАЖДОГО_СИМВОЛА_ОСНОВАННАЪ_НА_ПОДСЧЕТЕ_ЧАСТОТ_ИХ_ВСТРЕЧАЕМОСТИ_НАЗЫВАЕТСЪ_МОДЕЛЬЮ_ПЕРВОГО_ПРИБЛИЖЕНИЯ_ИЛИ_ЕЩЕ_ПЕРВОГО_ПОРЪДКА_ТАБЛИЦА_УЧИТЫВАЮЩАЪ_БОЛЕЕ_СЛОЖНЫЕ_ЗАВИСИМОСТИ_НАПРИМЕР_ПОЪВЛЕНИЕ_ОДНОГО_СИМВОЛА_ПОСЛЕ_КАКОГОТО_ДРУГОГО_ИМЕЮТ_СООТВЕТСЪТВЕННО_ВТОРОЙ_И_БОЛЕЕ_ПОРЯДОК_С_ПОМОЩЬЮ_ЭТИХ_ВЕРОЪТНОСТЕЙ_МОЖЕТ_БЫТЬ_ВЫЧИСЛЕНА_ЭНТРОПИЪ_И_ПОСТРОЕН_ДОСТАТОЧНО_ЭФФЕКТИВНЫЙ_КОД_ПОЗВОЛЪЮЩИЙ_СЖАТЬ_ТЕКСТ_НАИЛУЧШАЯ_СРЕДНЪ_ДЛИНА_КОДА_И_СООТВЕТСТВЕННО_СТЕПЕНЬ_СЖАТИЯ_ДОСТИГАЕТСЯ_МОДЕЛЪМИ_В_КОТОРЫХ_ОЦЕНКИ_ВЕРОЯТНОСТИ_КАК_МОЖНО_БОЛЕЕ_ТОЧНЫ\n"
     ]
    }
   ],
   "source": [
    "print(\"\\n\\nПереведём по частоте, по часто встречающимися символам. Тестовый алфавит выставляем по частоте встречи:\\n\")\n",
    "\n",
    "print(decryptor.analysisTextAndSortFrequency())\n",
    "\n",
    "print()\n",
    "pri = list(decryptor.getTranslateDictFrequency(testAlphabet).keys())\n",
    "print(pri)\n",
    "pri = list(decryptor.getTranslateDictFrequency(testAlphabet).values())\n",
    "print(pri)\n",
    "\n",
    "print(\"\\n\\nПопробуем расшифровать:\\n\")\n",
    "print(text)\n",
    "translate = decryptor.decryptionSortFrequency(testAlphabet)\n",
    "print(translate)"
   ]
  },
  {
   "cell_type": "code",
   "execution_count": 4,
   "metadata": {},
   "outputs": [],
   "source": [
    "\n",
    "index = 1"
   ]
  },
  {
   "cell_type": "code",
   "execution_count": 32,
   "metadata": {},
   "outputs": [
    {
     "name": "stdout",
     "output_type": "stream",
     "text": [
      "Замена буквы\n"
     ]
    }
   ],
   "source": [
    "\n",
    "print(\"Замена буквы\")\n",
    "# в тестовом алфавите\n",
    "lets = \"_И\"\n",
    "\n",
    "testAlphabet = DCrypt.swapLettersInTestAlphabet(testAlphabet, lets[0], lets[1])\n",
    "\n",
    "with open(\"history.txt\", \"a+\") as file:\n",
    "    file.write(str(index) + \". \" + lets[0] + \" -> \" + lets[1] + \"\\n\")\n",
    "\n",
    "index += 1"
   ]
  },
  {
   "cell_type": "code",
   "execution_count": 157,
   "metadata": {},
   "outputs": [
    {
     "name": "stdout",
     "output_type": "stream",
     "text": [
      "Замена слов\n"
     ]
    }
   ],
   "source": [
    "print(\"Замена слов\")\n",
    "# в тестовом алфавите\n",
    "lets = [\"Ъ\", \"Ш\" ]\n",
    "\n",
    "testAlphabet = DCrypt.swapSetCharacters(testAlphabet, lets[0], lets[1])\n",
    "\n",
    "with open(\"history.txt\", \"a+\") as file:\n",
    "    file.write(str(index) + \". \" + lets[0] + \" -> \" + lets[1] + \"\\n\")\n",
    "\n",
    "index += 1"
   ]
  },
  {
   "cell_type": "code",
   "execution_count": 5,
   "metadata": {},
   "outputs": [
    {
     "name": "stdout",
     "output_type": "stream",
     "text": [
      "Какие буквы сейчас\n",
      "\n",
      "['>', '2', 'a', 'А', '7', 'О', 'r', '1', 'Р', 'Ф', 'Е', 'Х', 'Д', '9', 'У', ' ', '\\n', '3', 't', 'b', '<', '0', 'Я', 'Ы', '8', 'М', 'Й', 'Ь', 'Л', 'Б', 'c', 'К', 'И']\n",
      "['_', 'О', 'Е', 'Т', 'И', 'А', 'С', 'Н', 'В', 'Л', 'Р', 'М', 'П', 'Д', 'К', 'Я', 'Ъ', 'Г', 'Ч', 'Ж', 'Ы', 'Б', 'Ю', 'Ь', 'Й', 'Ц', 'Щ', 'Э', 'Х', 'У', 'З', 'Ф', 'Ш']\n"
     ]
    }
   ],
   "source": [
    "\n",
    "print(\"Какие буквы сейчас\")\n",
    "print()\n",
    "pri = list(decryptor.getTranslateDictFrequency(testAlphabet).keys())\n",
    "print(pri)\n",
    "pri = str(list(decryptor.getTranslateDictFrequency(testAlphabet).values()))\n",
    "print(pri)\n",
    "\n",
    "# ['>', '2', 'a', 'А', '7', 'О', 'r', '1', 'Р', 'Ф', 'Е', 'Х', 'Д', '9', 'У', ' ', '\\n', '3', 't', 'b', '<', '0', 'Я', 'Ы', '8', 'М', 'Й', 'Ь', 'Л', 'Б', 'c', 'К', 'И']\n",
    "# ['_', 'О', 'Е', 'Т', 'И', 'А', 'С', 'Н', 'В', 'Л', 'Р', 'М', 'П', 'Д', 'К', 'Я', 'Ъ', 'Г', 'Ч', 'Ж', 'Ы', 'Б', 'Ю', 'Ь', 'Й', 'Ц', 'Щ', 'Э', 'Х', 'У', 'З', 'Ф', 'Ш']"
   ]
  },
  {
   "cell_type": "code",
   "execution_count": 6,
   "metadata": {},
   "outputs": [
    {
     "name": "stdout",
     "output_type": "stream",
     "text": [
      "\n",
      "\n",
      "Попробуем расшифровать:\n",
      "\n",
      ">Р>rОХ2Х>ДЕ2rА2Х>РОЕ7О1Аa>Х29aФ7Е2РО17aХ> РФ aАr\n",
      ">2Мa1УО>РaЕ2 А12rА7>Д2 РФa17 >УОb9232>r7ХР2ФО>АО0Ф7МО>РaЕ2\n",
      "А12rАa8>Д2 РФa17 >УОb9232>r7ХР2ФО>2r12РО11О\n",
      ">1О>Д29rtaАa>tОrА2А>7Л>РrАЕatОaХ2rА7>1Оc<РОaАr\n",
      ">Х29aФЫЯ>ДaЕР232>ДЕ70Ф7ba17 >7Ф7>aЙa>ДaЕР232>Д2Е\n",
      "9УО>АО0Ф7МО>Бt7А<РОЯЙО\n",
      ">02Фaa>rФ2b1<a>cОР7r7Х2rА7>1ОДЕ7ХaЕ>Д2\n",
      "РФa17a>291232>r7ХР2ФО>Д2rФa>УОУ232А2>9ЕБ3232>7ХaЯА>r22АРaАr\n",
      "АРa112>РА2Е28>7>02Фaa>Д2Е 92У>r>Д2Х2ЙЫЯ>ЬА7Л>РaЕ2\n",
      "А12rАa8>Х2baА>0<АЫ>Р<t7rФa1О>Ь1АЕ2Д7\n",
      ">7>Д2rАЕ2a1>92rАОА2t12>ЬККaУА7Р1<8>У29>Д2cР2Ф\n",
      "ЯЙ78>rbОАЫ>АaУrА>1О7ФБtИО >rЕa91\n",
      ">9Ф71О>У29О>7>r22АРaАrАРa112>rАaДa1Ы>rbОА7 >92rА73ОaАr >Х29aФ\n",
      "Х7>Р>У2А2Е<Л>2Мa1У7>РaЕ2 А12rА7>УОУ>Х2b12>02Фaa>А2t1<\n",
      "\n",
      "_В_САМОМ_ПРОСТОМ_ВАРИАНТЕ_МОДЕЛИРОВАНИЕМ_ЯВЛЯЕТСЪ_ОЦЕНКА_ВЕРОЯТНОСТИ_ПОЯВЛЕНИЯ_КАЖДОГО_СИМВОЛА_ТАБЛИЦА_ВЕРОЪТНОСТЕЙ_ПОЯВЛЕНИЯ_КАЖДОГО_СИМВОЛА_ОСНОВАННАЪ_НА_ПОДСЧЕТЕ_ЧАСТОТ_ИХ_ВСТРЕЧАЕМОСТИ_НАЗЫВАЕТСЪ_МОДЕЛЬЮ_ПЕРВОГО_ПРИБЛИЖЕНИЯ_ИЛИ_ЕЩЕ_ПЕРВОГО_ПОРЪДКА_ТАБЛИЦА_УЧИТЫВАЮЩАЪ_БОЛЕЕ_СЛОЖНЫЕ_ЗАВИСИМОСТИ_НАПРИМЕР_ПОЪВЛЕНИЕ_ОДНОГО_СИМВОЛА_ПОСЛЕ_КАКОГОТО_ДРУГОГО_ИМЕЮТ_СООТВЕТСЪТВЕННО_ВТОРОЙ_И_БОЛЕЕ_ПОРЯДОК_С_ПОМОЩЬЮ_ЭТИХ_ВЕРОЪТНОСТЕЙ_МОЖЕТ_БЫТЬ_ВЫЧИСЛЕНА_ЭНТРОПИЪ_И_ПОСТРОЕН_ДОСТАТОЧНО_ЭФФЕКТИВНЫЙ_КОД_ПОЗВОЛЪЮЩИЙ_СЖАТЬ_ТЕКСТ_НАИЛУЧШАЯ_СРЕДНЪ_ДЛИНА_КОДА_И_СООТВЕТСТВЕННО_СТЕПЕНЬ_СЖАТИЯ_ДОСТИГАЕТСЯ_МОДЕЛЪМИ_В_КОТОРЫХ_ОЦЕНКИ_ВЕРОЯТНОСТИ_КАК_МОЖНО_БОЛЕЕ_ТОЧНЫ\n",
      "\n"
     ]
    }
   ],
   "source": [
    "print(\"\\n\\nПопробуем расшифровать:\\n\")\n",
    "print(text)\n",
    "translate = decryptor.decryptionSortFrequency(testAlphabet)\n",
    "print()\n",
    "print(translate)\n",
    "print()"
   ]
  },
  {
   "cell_type": "code",
   "execution_count": 7,
   "metadata": {},
   "outputs": [
    {
     "name": "stdout",
     "output_type": "stream",
     "text": [
      "\n",
      "Теперь выпишим слова размер которых x и пробел - '2' и один, чтобы провести анализ слов(также возьмём их перевод)\n",
      "\n",
      "\n",
      "\n",
      "1, 6, 0.07228915662650602\n",
      "['Р', '7', 'r', '7', '7', 'Р']\n",
      "['В', 'И', 'С', 'И', 'И', 'В']\n",
      "\n",
      "2, 2, 0.024096385542168676\n",
      "['1О', '7Л']\n",
      "['НА', 'ИХ']\n",
      "\n",
      "3, 4, 0.04819277108433735\n",
      "['7Ф7', 'aЙa', 'У29', 'УОУ']\n",
      "['ИЛИ', 'ЕЩЕ', 'КОД', 'КАК']\n",
      "\n",
      "4, 3, 0.03614457831325301\n",
      "['ЬА7Л', '0<АЫ', 'У29О']\n",
      "['ЭТИХ', 'БЫТЬ', 'КОДА']\n",
      "\n",
      "5, 12, 0.14457831325301204\n",
      "['rОХ2Х', '02Фaa', 'Д2rФa', '7ХaЯА', '02Фaa', 'Х2baА', 'rbОАЫ', 'АaУrА', '9Ф71О', 'Х2b12', '02Фaa', 'А2t1<']\n",
      "['САМОМ', 'БОЛЕЕ', 'ПОСЛЕ', 'ИМЕЮТ', 'БОЛЕЕ', 'МОЖЕТ', 'СЖАТЬ', 'ТЕКСТ', 'ДЛИНА', 'МОЖНО', 'БОЛЕЕ', 'ТОЧНЫ']\n",
      "\n",
      "6, 7, 0.08433734939759036\n",
      "['2Мa1УО', 'tОrА2А', '291232', 'РА2Е28', 'rЕa91\\n', 'rbОА7 ', '2Мa1У7']\n",
      "['ОЦЕНКА', 'ЧАСТОТ', 'ОДНОГО', 'ВТОРОЙ', 'СРЕДНЪ', 'СЖАТИЯ', 'ОЦЕНКИ']\n"
     ]
    }
   ],
   "source": [
    "print(\"\\nТеперь выпишим слова размер которых x и пробел - '2' и один, чтобы провести анализ слов(также возьмём их перевод)\\n\\n\")\n",
    "\n",
    "det_in_cihep = '>'\n",
    "det_in_cihep2 = '_'\n",
    "\n",
    "x = []\n",
    "y = []\n",
    "\n",
    "for i in range(1, 7):\n",
    "    lenth = decryptor.countWordSizeInText([det_in_cihep], i)\n",
    "    if lenth != 0:\n",
    "        average = decryptor.wordSizeInTextFrequency([det_in_cihep], i)\n",
    "        print(f\"\\n{i}, {lenth}, {average}\")\n",
    "        print(decryptor.splitTextBySize([det_in_cihep], i))\n",
    "        print(DCrypt.splitTextBySize_s(translate, [det_in_cihep2], i))\n",
    "        x.append(i)\n",
    "        y.append(average)\n"
   ]
  },
  {
   "cell_type": "markdown",
   "metadata": {},
   "source": []
  },
  {
   "cell_type": "code",
   "execution_count": 8,
   "metadata": {},
   "outputs": [
    {
     "name": "stdout",
     "output_type": "stream",
     "text": [
      "\n",
      "7, 18, 0.21686746987951808\n",
      "['ДЕ2rА2Х', 'УОb9232', 'r7ХР2ФО', 'АО0Ф7МО', 'УОb9232', 'r7ХР2ФО', 'Х29aФЫЯ', 'ДaЕР232', 'ДaЕР232', 'Д2Е\\n9УО', 'АО0Ф7МО', 'rФ2b1<a', 'r7ХР2ФО', '9ЕБ3232', 'Д2Е 92У', 'Д2Х2ЙЫЯ', 'rАaДa1Ы', 'У2А2Е<Л']\n",
      "['ПРОСТОМ', 'КАЖДОГО', 'СИМВОЛА', 'ТАБЛИЦА', 'КАЖДОГО', 'СИМВОЛА', 'МОДЕЛЬЮ', 'ПЕРВОГО', 'ПЕРВОГО', 'ПОРЪДКА', 'ТАБЛИЦА', 'СЛОЖНЫЕ', 'СИМВОЛА', 'ДРУГОГО', 'ПОРЯДОК', 'ПОМОЩЬЮ', 'СТЕПЕНЬ', 'КОТОРЫХ']\n",
      "\n",
      "8, 8, 0.0963855421686747\n",
      "['РОЕ7О1Аa', ' РФ aАr\\n', 'Д29rtaАa', '1ОДЕ7ХaЕ', 'УОУ232А2', 'Ь1АЕ2Д7\\n', 'Д2rАЕ2a1', 'Х29aФ\\nХ7']\n",
      "['ВАРИАНТЕ', 'ЯВЛЯЕТСЪ', 'ПОДСЧЕТЕ', 'НАПРИМЕР', 'КАКОГОТО', 'ЭНТРОПИЪ', 'ПОСТРОЕН', 'МОДЕЛЪМИ']\n",
      "\n",
      "9, 5, 0.060240963855421686\n",
      "['Д2 РФa17 ', 'Д2 РФa17 ', 'Д2\\nРФa17a', 'Р<t7rФa1О', '1О7ФБtИО ']\n",
      "['ПОЯВЛЕНИЯ', 'ПОЯВЛЕНИЯ', 'ПОЪВЛЕНИЕ', 'ВЫЧИСЛЕНА', 'НАИЛУЧШАЯ']\n",
      "\n",
      "10, 3, 0.03614457831325301\n",
      "['2r12РО11О\\n', '1Оc<РОaАr\\n', '92rАОА2t12']\n",
      "['ОСНОВАННАЪ', 'НАЗЫВАЕТСЪ', 'ДОСТАТОЧНО']\n",
      "\n",
      "11, 8, 0.0963855421686747\n",
      "['РaЕ2 А12rА7', 'ДЕ70Ф7ba17 ', 'Бt7А<РОЯЙО\\n', 'cОР7r7Х2rА7', 'ЬККaУА7Р1<8', 'Д2cР2Ф\\nЯЙ78', '92rА73ОaАr ', 'РaЕ2 А12rА7']\n",
      "['ВЕРОЯТНОСТИ', 'ПРИБЛИЖЕНИЯ', 'УЧИТЫВАЮЩАЪ', 'ЗАВИСИМОСТИ', 'ЭФФЕКТИВНЫЙ', 'ПОЗВОЛЪЮЩИЙ', 'ДОСТИГАЕТСЯ', 'ВЕРОЯТНОСТИ']\n",
      "\n",
      "12, 2, 0.024096385542168676\n",
      "['РaЕ2\\nА12rАa8', 'РaЕ2\\nА12rАa8']\n",
      "['ВЕРОЪТНОСТЕЙ', 'ВЕРОЪТНОСТЕЙ']\n",
      "\n",
      "13, 1, 0.012048192771084338\n",
      "['РrАЕatОaХ2rА7']\n",
      "['ВСТРЕЧАЕМОСТИ']\n"
     ]
    }
   ],
   "source": [
    "for i in range(7, 14):\n",
    "\n",
    "    lenth = decryptor.countWordSizeInText([det_in_cihep], i)\n",
    "    if lenth != 0:\n",
    "        average = decryptor.wordSizeInTextFrequency([det_in_cihep], i)\n",
    "        print(f\"\\n{i}, {lenth}, {average}\")\n",
    "        print(decryptor.splitTextBySize([det_in_cihep], i))\n",
    "        print(DCrypt.splitTextBySize_s(translate, [det_in_cihep2], i))\n",
    "        x.append(i)\n",
    "        y.append(average)"
   ]
  },
  {
   "cell_type": "code",
   "execution_count": 9,
   "metadata": {},
   "outputs": [
    {
     "name": "stdout",
     "output_type": "stream",
     "text": [
      "\n",
      "14, 2, 0.024096385542168676\n",
      "['Х29aФ7Е2РО17aХ', 'r22АРaАrАРa112']\n",
      "['МОДЕЛИРОВАНИЕМ', 'СООТВЕТСТВЕННО']\n",
      "\n",
      "15, 1, 0.012048192771084338\n",
      "['r22АРaАr\\nАРa112']\n",
      "['СООТВЕТСЪТВЕННО']\n"
     ]
    }
   ],
   "source": [
    "for i in range(14, 20):\n",
    "\n",
    "    lenth = decryptor.countWordSizeInText([det_in_cihep], i)\n",
    "    if lenth != 0:\n",
    "        average = decryptor.wordSizeInTextFrequency([det_in_cihep], i)\n",
    "        print(f\"\\n{i}, {lenth}, {average}\")\n",
    "        print(decryptor.splitTextBySize([det_in_cihep], i))\n",
    "        print(DCrypt.splitTextBySize_s(translate, [det_in_cihep2], i))\n",
    "        x.append(i)\n",
    "        y.append(average)"
   ]
  },
  {
   "cell_type": "code",
   "execution_count": 15,
   "metadata": {},
   "outputs": [
    {
     "name": "stdout",
     "output_type": "stream",
     "text": [
      "{'>': '_', '2': 'О', 'a': 'Е', 'А': 'Т', '7': 'И', 'О': 'А', 'r': 'С', '1': 'Н', 'Р': 'В', 'Ф': 'Л', 'Е': 'Р', 'Х': 'М', 'Д': 'П', '9': 'Д', 'У': 'К', ' ': 'Я', '\\n': 'Ъ', '3': 'Г', 't': 'Ч', 'b': 'Ж', '<': 'Ы', '0': 'Б', 'Я': 'Ю', 'Ы': 'Ь', '8': 'Й', 'М': 'Ц', 'Й': 'Щ', 'Ь': 'Э', 'Л': 'Х', 'Б': 'У', 'c': 'З', 'К': 'Ф', 'И': 'Ш'}\n",
      "\n",
      "Ключ для вероятности:\n",
      "_ОЕТИАСНВЛРМПДКЯЪГЧЖЫБЮЬЙЦЩЭХУЗФШ\n",
      "\n",
      "Ключ для алфавита:\n",
      "ЪЯБНОГИЙДЫ_ЕЖЗСЧТУПРШЩФХЦАВКЛМЬЭЮ\n",
      "\n",
      " _В_САМОМ_ПРОСТОМ_ВАРИАНТЕ_МОДЕЛИРОВАНИЕМ_ЯВЛЯЕТСЪ_ОЦЕНКА_ВЕРОЯТНОСТИ_ПОЯВЛЕНИЯ_КАЖДОГО_СИМВОЛА_ТАБЛИЦА_ВЕРОЪТНОСТЕЙ_ПОЯВЛЕНИЯ_КАЖДОГО_СИМВОЛА_ОСНОВАННАЪ_НА_ПОДСЧЕТЕ_ЧАСТОТ_ИХ_ВСТРЕЧАЕМОСТИ_НАЗЫВАЕТСЪ_МОДЕЛЬЮ_ПЕРВОГО_ПРИБЛИЖЕНИЯ_ИЛИ_ЕЩЕ_ПЕРВОГО_ПОРЪДКА_ТАБЛИЦА_УЧИТЫВАЮЩАЪ_БОЛЕЕ_СЛОЖНЫЕ_ЗАВИСИМОСТИ_НАПРИМЕР_ПОЪВЛЕНИЕ_ОДНОГО_СИМВОЛА_ПОСЛЕ_КАКОГОТО_ДРУГОГО_ИМЕЮТ_СООТВЕТСЪТВЕННО_ВТОРОЙ_И_БОЛЕЕ_ПОРЯДОК_С_ПОМОЩЬЮ_ЭТИХ_ВЕРОЪТНОСТЕЙ_МОЖЕТ_БЫТЬ_ВЫЧИСЛЕНА_ЭНТРОПИЪ_И_ПОСТРОЕН_ДОСТАТОЧНО_ЭФФЕКТИВНЫЙ_КОД_ПОЗВОЛЪЮЩИЙ_СЖАТЬ_ТЕКСТ_НАИЛУЧШАЯ_СРЕДНЪ_ДЛИНА_КОДА_И_СООТВЕТСТВЕННО_СТЕПЕНЬ_СЖАТИЯ_ДОСТИГАЕТСЯ_МОДЕЛЪМИ_В_КОТОРЫХ_ОЦЕНКИ_ВЕРОЯТНОСТИ_КАК_МОЖНО_БОЛЕЕ_ТОЧНЫ\n"
     ]
    }
   ],
   "source": [
    "#получение ключа для алфавита\n",
    "\n",
    "dic = decryptor.getTranslateDictFrequency(testAlphabet)\n",
    "print(dic)\n",
    "\n",
    "keyForFrequency = \"\".join(list(dic.values()))\n",
    "\n",
    "\n",
    "\n",
    "sorted_dict = sorted(dic.items())\n",
    "keyForAlphabet = \"\".join([value for key, value in sorted_dict])\n",
    "\n",
    "\n",
    "print(\"\\nКлюч для вероятности:\")\n",
    "print(keyForFrequency)\n",
    "\n",
    "print(\"\\nКлюч для алфавита:\")\n",
    "print(keyForAlphabet)\n",
    "\n",
    "print(\"\\n\", decryptor.decryptionSortAlphabet(keyForAlphabet))"
   ]
  },
  {
   "cell_type": "code",
   "execution_count": 16,
   "metadata": {},
   "outputs": [
    {
     "data": {
      "image/png": "[encoded data removed]",
      "text/plain": [
       "<Figure size 640x480 with 1 Axes>"
      ]
     },
     "metadata": {},
     "output_type": "display_data"
    }
   ],
   "source": [
    "import matplotlib.pyplot as plt\n",
    "\n",
    "plt.plot(x, y)\n",
    "plt.xlabel('X-axis')\n",
    "plt.ylabel('Y-axis')\n",
    "plt.title('Simple Plot')\n",
    "\n",
    "plt.grid()\n",
    "\n",
    "# plt.savefig(\"resource/2-_.png\")\n",
    "plt.show()"
   ]
  }
 ],
 "metadata": {
  "kernelspec": {
   "display_name": "env",
   "language": "python",
   "name": "python3"
  },
  "language_info": {
   "codemirror_mode": {
    "name": "ipython",
    "version": 3
   },
   "file_extension": ".py",
   "mimetype": "text/x-python",
   "name": "python",
   "nbconvert_exporter": "python",
   "pygments_lexer": "ipython3",
   "version": "3.11.6"
  }
 },
 "nbformat": 4,
 "nbformat_minor": 2
}
